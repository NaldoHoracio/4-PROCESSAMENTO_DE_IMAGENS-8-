{
 "cells": [
  {
   "cell_type": "markdown",
   "metadata": {},
   "source": [
    "# Digital Image Processing - AB1 (2018.1)"
   ]
  },
  {
   "cell_type": "code",
   "execution_count": 1,
   "metadata": {},
   "outputs": [],
   "source": [
    "from dip import *"
   ]
  },
  {
   "cell_type": "markdown",
   "metadata": {},
   "source": [
    "## Q1 - Criação de imagens\n",
    "\n",
    "Degradê (do francês dégradé) ou gradiente de cor é uma sequência de tons \n",
    "contínuos, podendo ser limitado ou ilimitado. Ou seja, é a área onde duas \n",
    "ou mais cores são sobrepostas, cada uma com suas intensidades, formando \n",
    "uma transição suave entre as cores, no sentido de apresentar aspecto em 3D. \n",
    "Fonte: wikipedia.\n",
    "\n",
    "Criar uma imagem 100x100 contendo uma variação linear gradual (degradê)\n",
    "em escala de cinza (de 0 a 255), assim como ilustrado na imagem \n",
    "'degrade_theta_45_deg.png'. \n",
    "A direção do degradê deve ser controlada interativamente por uma variável \n",
    "'theta' que determina o ângulo ao longo do qual ocorre o aumento de \n",
    "intensidade."
   ]
  },
  {
   "cell_type": "code",
   "execution_count": 2,
   "metadata": {},
   "outputs": [
    {
     "data": {
      "image/png": "[encoded data removed]",
      "text/plain": [
       "<Figure size 432x288 with 1 Axes>"
      ]
     },
     "metadata": {},
     "output_type": "display_data"
    }
   ],
   "source": [
    "rows = 100\n",
    "cols = 100\n",
    "theta = 45\n",
    "img = np.zeros((rows, cols), dtype=np.float64)\n",
    "xx, yy = np.meshgrid(np.linspace(-cols/2, cols/2 - 1, cols),\n",
    "                     np.linspace(-rows/2, rows/2 - 1, rows))\n",
    "cv2.namedWindow('img', cv2.WINDOW_KEEPRATIO)\n",
    "cv2.createTrackbar(\"theta\", \"img\", theta, 360, doNothing)\n",
    "while 0xFF & cv2.waitKey(1) != ord('q'):\n",
    "    theta = cv2.getTrackbarPos(\"theta\", \"img\")\n",
    "    theta2 = np.deg2rad(theta) # convert theta from deg (int) to rad (float)\n",
    "    img[:] = (xx * np.cos(theta2) - yy * np.sin(theta2))\n",
    "    img = (img - img.min()) / (img.max() - img.min())\n",
    "    img2 = scaleImage2_uchar(img)\n",
    "    cv2.imshow('img', img2)\n",
    "cv2.destroyAllWindows()\n",
    "cv2.imwrite('degrade_theta_' + str(theta) + '_deg.png', img2)\n",
    "\n",
    "plt.imshow(img2, cmap = 'gray')\n",
    "plt.xlabel('Theta = ' + str(theta) + ' deg')\n",
    "plt.show()"
   ]
  },
  {
   "cell_type": "markdown",
   "metadata": {},
   "source": [
    "## Q2 - Criação de imagens aleatórias\n",
    "Desenvolva o código que gera uma imagem 500x500 contendo 30 círculos \n",
    "de centróides e raios aleatoriamente distibuídos, assim como ilustrado\n",
    "na imagem 'random-circles.png', que foi criada com os seguintes parâmetros:\n",
    "\n",
    "radii \\in [10, 30]\n",
    "\n",
    "xc \\in [0, cols]\n",
    "\n",
    "yc \\in [0, rows]\n"
   ]
  },
  {
   "cell_type": "code",
   "execution_count": 3,
   "metadata": {},
   "outputs": [
    {
     "data": {
      "text/plain": [
       "True"
      ]
     },
     "execution_count": 3,
     "metadata": {},
     "output_type": "execute_result"
    },
    {
     "data": {
      "image/png": "[encoded data removed]",
      "text/plain": [
       "<Figure size 432x288 with 1 Axes>"
      ]
     },
     "metadata": {},
     "output_type": "display_data"
    }
   ],
   "source": [
    "rows = 500\n",
    "cols = 500\n",
    "n = 30\n",
    "np.random.seed(0)\n",
    "xi = np.random.randint(0, cols, n)\n",
    "yi = np.random.randint(0, rows, n)\n",
    "radii = np.random.randint(10, 30, n)\n",
    "img = np.zeros((rows, cols), dtype = np.uint8) != 0\n",
    "for i in range(n):\n",
    "    disk = createWhiteDisk2(rows, cols, xi[i], yi[i], radii[i]) != 0\n",
    "    img = img | disk\n",
    "plt.imshow(img)\n",
    "cv2.imwrite('random-circles.png', scaleImage2_uchar(img))"
   ]
  },
  {
   "cell_type": "markdown",
   "metadata": {},
   "source": [
    "## Q5 Filtragem no domínio da frequência"
   ]
  },
  {
   "cell_type": "markdown",
   "metadata": {},
   "source": [
    "Considerande a representação da onda quadrada periódica em termos da sua expansão em série de Fourier,\n",
    "$$f(x) = \\sum_{i=0}^{n} \\left( \\dfrac{1}{2i+1} \\right)  \\sin \\left[ \\left( 2i+1 \\right) 2 \\pi f x\\right] $$\n",
    "desenvolva um código que possibilite a observação da série e, para isso, crie uma imagem 400x400 e um trackbar para, interativamente, incrementar o número de coeficientes da expansão em série que serão considerados na reconstrução do sinal periódico."
   ]
  },
  {
   "cell_type": "code",
   "execution_count": 4,
   "metadata": {},
   "outputs": [
    {
     "data": {
      "text/plain": [
       "<matplotlib.image.AxesImage at 0x7f175dc90940>"
      ]
     },
     "execution_count": 4,
     "metadata": {},
     "output_type": "execute_result"
    },
    {
     "data": {
      "image/png": "[encoded data removed]",
      "text/plain": [
       "<Figure size 432x288 with 1 Axes>"
      ]
     },
     "metadata": {},
     "output_type": "display_data"
    }
   ],
   "source": [
    "rows = 400\n",
    "cols = 400\n",
    "f0 = 1/1e2\n",
    "ncoeff = 0\n",
    "cv2.namedWindow('img', cv2.WINDOW_KEEPRATIO)\n",
    "cv2.namedWindow('img2', cv2.WINDOW_KEEPRATIO)\n",
    "cv2.createTrackbar(\"ncoeff\", \"img2\", ncoeff, 19, doNothing)\n",
    "while 0xFF & cv2.waitKey(1) != ord('q'):\n",
    "    img2 = np.zeros((rows, cols), np.float32)\n",
    "    ncoeff = cv2.getTrackbarPos('ncoeff', 'img2')\n",
    "    for i in range(ncoeff + 1):\n",
    "        img2 = img2 + (1/(2*i + 1)) * createSineImage2(rows, cols, (2*i + 1)*f0, theta = 0)\n",
    "    cv2.imshow('img2', cv2.applyColorMap(scaleImage2_uchar(img2), cv2.COLORMAP_JET))\n",
    "cv2.destroyAllWindows()\n",
    "plt.imshow(img2, cmap='jet')"
   ]
  },
  {
   "cell_type": "code",
   "execution_count": null,
   "metadata": {},
   "outputs": [],
   "source": []
  }
 ],
 "metadata": {
  "kernelspec": {
   "display_name": "Python 3",
   "language": "python",
   "name": "python3"
  },
  "language_info": {
   "codemirror_mode": {
    "name": "ipython",
    "version": 3
   },
   "file_extension": ".py",
   "mimetype": "text/x-python",
   "name": "python",
   "nbconvert_exporter": "python",
   "pygments_lexer": "ipython3",
   "version": "3.6.6"
  }
 },
 "nbformat": 4,
 "nbformat_minor": 2
}
