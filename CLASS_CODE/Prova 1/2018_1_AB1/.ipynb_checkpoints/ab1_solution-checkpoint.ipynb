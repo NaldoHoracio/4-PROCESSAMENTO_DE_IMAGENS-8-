{
 "cells": [
  {
   "cell_type": "markdown",
   "metadata": {},
   "source": [
    "# Digital Image Processing - AB1 (2018.1)"
   ]
  },
  {
   "cell_type": "code",
   "execution_count": 1,
   "metadata": {},
   "outputs": [],
   "source": [
    "from dip import *"
   ]
  },
  {
   "cell_type": "markdown",
   "metadata": {},
   "source": [
    "## Q1 - Criação de imagens\n",
    "\n",
    "Degradê (do francês dégradé) ou gradiente de cor é uma sequência de tons \n",
    "contínuos, podendo ser limitado ou ilimitado. Ou seja, é a área onde duas \n",
    "ou mais cores são sobrepostas, cada uma com suas intensidades, formando \n",
    "uma transição suave entre as cores, no sentido de apresentar aspecto em 3D. \n",
    "Fonte: wikipedia.\n",
    "\n",
    "Criar uma imagem 100x100 contendo uma variação linear gradual (degradê)\n",
    "em escala de cinza (de 0 a 255), assim como ilustrado na imagem \n",
    "'degrade_theta_45_deg.png'. \n",
    "A direção do degradê deve ser controlada interativamente por uma variável \n",
    "'theta' que determina o ângulo ao longo do qual ocorre o aumento de \n",
    "intensidade."
   ]
  },
  {
   "cell_type": "code",
   "execution_count": 9,
   "metadata": {},
   "outputs": [
    {
     "data": {
      "image/png": "[encoded data removed]",
      "text/plain": [
       "<Figure size 432x288 with 1 Axes>"
      ]
     },
     "metadata": {},
     "output_type": "display_data"
    }
   ],
   "source": [
    "rows = 100\n",
    "cols = 100\n",
    "theta = 45\n",
    "img = np.zeros((rows, cols), dtype=np.float64)\n",
    "xx, yy = np.meshgrid(np.linspace(-cols/2, cols/2 - 1, cols),\n",
    "                     np.linspace(-rows/2, rows/2 - 1, rows))\n",
    "cv2.namedWindow('img', cv2.WINDOW_KEEPRATIO)\n",
    "cv2.createTrackbar(\"theta\", \"img\", theta, 360, doNothing)\n",
    "while 0xFF & cv2.waitKey(1) != ord('q'):\n",
    "    theta = cv2.getTrackbarPos(\"theta\", \"img\")\n",
    "    theta2 = np.deg2rad(theta) # convert theta from deg (int) to rad (float)\n",
    "    img[:] = (xx * np.cos(theta2) - yy * np.sin(theta2))\n",
    "    img = (img - img.min()) / (img.max() - img.min())\n",
    "    img2 = scaleImage2_uchar(img)\n",
    "    cv2.imshow('img', img2)\n",
    "cv2.destroyAllWindows()\n",
    "cv2.imwrite('degrade_theta_' + str(theta) + '_deg.png', img2)\n",
    "\n",
    "plt.imshow(img2, cmap = 'gray')\n",
    "plt.xlabel('Theta = ' + str(theta) + ' deg')\n",
    "plt.show()"
   ]
  },
  {
   "cell_type": "markdown",
   "metadata": {},
   "source": [
    "## Q2 - Criação de imagens aleatórias\n",
    "Desenvolva o código que gera uma imagem 500x500 contendo 30 círculos \n",
    "de centróides e raios aleatoriamente distibuídos, assim como ilustrado\n",
    "na imagem 'random-circles.png', que foi criada com os seguintes parâmetros:\n",
    "\n",
    "radii \\in [10, 30]\n",
    "\n",
    "xc \\in [0, cols]\n",
    "\n",
    "yc \\in [0, rows]\n"
   ]
  },
  {
   "cell_type": "markdown",
   "metadata": {},
   "source": [
    "## Q5 Filtragem no domínio da frequência"
   ]
  },
  {
   "cell_type": "code",
   "execution_count": 2,
   "metadata": {},
   "outputs": [
    {
     "ename": "SyntaxError",
     "evalue": "invalid syntax (<ipython-input-2-0b8c53e7e27c>, line 1)",
     "output_type": "error",
     "traceback": [
      "\u001b[0;36m  File \u001b[0;32m\"<ipython-input-2-0b8c53e7e27c>\"\u001b[0;36m, line \u001b[0;32m1\u001b[0m\n\u001b[0;31m    $$a \\times b$$\u001b[0m\n\u001b[0m    ^\u001b[0m\n\u001b[0;31mSyntaxError\u001b[0m\u001b[0;31m:\u001b[0m invalid syntax\n"
     ]
    }
   ],
   "source": [
    "$$a \\times b$$"
   ]
  },
  {
   "cell_type": "code",
   "execution_count": null,
   "metadata": {},
   "outputs": [],
   "source": []
  }
 ],
 "metadata": {
  "kernelspec": {
   "display_name": "Python 3",
   "language": "python",
   "name": "python3"
  },
  "language_info": {
   "codemirror_mode": {
    "name": "ipython",
    "version": 3
   },
   "file_extension": ".py",
   "mimetype": "text/x-python",
   "name": "python",
   "nbconvert_exporter": "python",
   "pygments_lexer": "ipython3",
   "version": "3.6.6"
  }
 },
 "nbformat": 4,
 "nbformat_minor": 2
}
